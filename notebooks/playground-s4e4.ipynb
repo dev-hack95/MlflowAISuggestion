{
 "cells": [
  {
   "cell_type": "code",
   "execution_count": 1,
   "metadata": {
    "execution": {
     "iopub.execute_input": "2024-04-17T17:34:42.406815Z",
     "iopub.status.busy": "2024-04-17T17:34:42.406455Z",
     "iopub.status.idle": "2024-04-17T17:34:45.903291Z",
     "shell.execute_reply": "2024-04-17T17:34:45.902404Z",
     "shell.execute_reply.started": "2024-04-17T17:34:42.406785Z"
    }
   },
   "outputs": [],
   "source": [
    "import os\n",
    "import pickle\n",
    "import warnings\n",
    "import numpy as np\n",
    "import pandas as pd\n",
    "import seaborn as sns\n",
    "import matplotlib.pyplot as plt\n",
    "from catboost import CatBoostRegressor\n",
    "from sklearn.model_selection import train_test_split\n",
    "from sklearn.linear_model import LinearRegression\n",
    "from sklearn.discriminant_analysis import LinearDiscriminantAnalysis\n",
    "from sklearn.tree import DecisionTreeRegressor\n",
    "from sklearn.ensemble import RandomForestRegressor, GradientBoostingRegressor, BaggingRegressor, AdaBoostRegressor, ExtraTreesRegressor\n",
    "from sklearn.base import BaseEstimator, TransformerMixin\n",
    "from sklearn.pipeline import Pipeline\n",
    "from sklearn.preprocessing import OrdinalEncoder, StandardScaler, MinMaxScaler, Normalizer\n",
    "from sklearn.metrics import mean_squared_error, r2_score, mean_squared_log_error"
   ]
  },
  {
   "cell_type": "code",
   "execution_count": 2,
   "metadata": {
    "execution": {
     "iopub.execute_input": "2024-04-17T17:34:45.905974Z",
     "iopub.status.busy": "2024-04-17T17:34:45.905334Z",
     "iopub.status.idle": "2024-04-17T17:34:45.914560Z",
     "shell.execute_reply": "2024-04-17T17:34:45.913547Z",
     "shell.execute_reply.started": "2024-04-17T17:34:45.905942Z"
    }
   },
   "outputs": [
    {
     "name": "stdout",
     "output_type": "stream",
     "text": [
      "/kaggle/input/playground-series-s4e4/sample_submission.csv\n",
      "/kaggle/input/playground-series-s4e4/train.csv\n",
      "/kaggle/input/playground-series-s4e4/test.csv\n"
     ]
    }
   ],
   "source": [
    "for dirname, _, filenames in os.walk('/kaggle/input'):\n",
    "    for filename in filenames:\n",
    "        print(os.path.join(dirname, filename))"
   ]
  },
  {
   "cell_type": "code",
   "execution_count": 3,
   "metadata": {
    "execution": {
     "iopub.execute_input": "2024-04-17T17:34:45.916444Z",
     "iopub.status.busy": "2024-04-17T17:34:45.916017Z",
     "iopub.status.idle": "2024-04-17T17:34:46.160197Z",
     "shell.execute_reply": "2024-04-17T17:34:46.159278Z",
     "shell.execute_reply.started": "2024-04-17T17:34:45.916410Z"
    }
   },
   "outputs": [],
   "source": [
    "df = pd.read_csv(\"/kaggle/input/playground-series-s4e4/train.csv\")"
   ]
  },
  {
   "cell_type": "code",
   "execution_count": 4,
   "metadata": {
    "execution": {
     "iopub.execute_input": "2024-04-17T17:34:46.162800Z",
     "iopub.status.busy": "2024-04-17T17:34:46.162463Z",
     "iopub.status.idle": "2024-04-17T17:34:46.167913Z",
     "shell.execute_reply": "2024-04-17T17:34:46.166794Z",
     "shell.execute_reply.started": "2024-04-17T17:34:46.162772Z"
    }
   },
   "outputs": [],
   "source": [
    "def drop_features(df, feature):\n",
    "    df = df.drop([feature], axis=1, inplace=True)\n",
    "    return df"
   ]
  },
  {
   "cell_type": "code",
   "execution_count": 5,
   "metadata": {
    "execution": {
     "iopub.execute_input": "2024-04-17T17:34:46.169863Z",
     "iopub.status.busy": "2024-04-17T17:34:46.169363Z",
     "iopub.status.idle": "2024-04-17T17:34:46.188981Z",
     "shell.execute_reply": "2024-04-17T17:34:46.187931Z",
     "shell.execute_reply.started": "2024-04-17T17:34:46.169771Z"
    }
   },
   "outputs": [],
   "source": [
    "drop_features(df, 'id')"
   ]
  },
  {
   "cell_type": "code",
   "execution_count": 6,
   "metadata": {
    "execution": {
     "iopub.execute_input": "2024-04-17T17:34:46.190888Z",
     "iopub.status.busy": "2024-04-17T17:34:46.190217Z",
     "iopub.status.idle": "2024-04-17T17:34:46.196900Z",
     "shell.execute_reply": "2024-04-17T17:34:46.196017Z",
     "shell.execute_reply.started": "2024-04-17T17:34:46.190829Z"
    }
   },
   "outputs": [],
   "source": [
    "class encoding(BaseEstimator, TransformerMixin):\n",
    "    def __init__(self, column_1=['Sex']):\n",
    "        self.column_1 = column_1\n",
    "    def fit(self, df):\n",
    "        return self\n",
    "    def transform(self, df):\n",
    "        oe = OrdinalEncoder()\n",
    "        df[self.column_1] = oe.fit_transform(df[self.column_1])\n",
    "        return df"
   ]
  },
  {
   "cell_type": "code",
   "execution_count": 7,
   "metadata": {
    "execution": {
     "iopub.execute_input": "2024-04-17T17:34:46.198627Z",
     "iopub.status.busy": "2024-04-17T17:34:46.197893Z",
     "iopub.status.idle": "2024-04-17T17:34:46.205935Z",
     "shell.execute_reply": "2024-04-17T17:34:46.204946Z",
     "shell.execute_reply.started": "2024-04-17T17:34:46.198599Z"
    }
   },
   "outputs": [],
   "source": [
    "class feature_scaling(BaseEstimator, TransformerMixin):\n",
    "    def __init__(self, column_3=['Length', 'Diameter', 'Height', 'Whole weight', 'Whole weight.1', 'Whole weight.2', 'Shell weight']):\n",
    "        self.column_3 = column_3\n",
    "    def fit(self, df):\n",
    "        return self\n",
    "    def transform(self, df):\n",
    "        if (set(self.column_3).issubset(df.columns)):\n",
    "            stc = Normalizer()\n",
    "            df[self.column_3] = stc.fit_transform(df[self.column_3])\n",
    "            return df\n",
    "        else:\n",
    "            print(\"Error\")\n",
    "            return df"
   ]
  },
  {
   "cell_type": "code",
   "execution_count": 8,
   "metadata": {
    "execution": {
     "iopub.execute_input": "2024-04-17T17:34:46.207602Z",
     "iopub.status.busy": "2024-04-17T17:34:46.207208Z",
     "iopub.status.idle": "2024-04-17T17:34:46.214474Z",
     "shell.execute_reply": "2024-04-17T17:34:46.213712Z",
     "shell.execute_reply.started": "2024-04-17T17:34:46.207568Z"
    }
   },
   "outputs": [],
   "source": [
    "pipe = Pipeline([\n",
    "    ('encoding', encoding()),\n",
    "    ('scaler', feature_scaling()),\n",
    "])"
   ]
  },
  {
   "cell_type": "code",
   "execution_count": 9,
   "metadata": {
    "execution": {
     "iopub.execute_input": "2024-04-17T17:34:46.215919Z",
     "iopub.status.busy": "2024-04-17T17:34:46.215598Z",
     "iopub.status.idle": "2024-04-17T17:34:46.289622Z",
     "shell.execute_reply": "2024-04-17T17:34:46.288671Z",
     "shell.execute_reply.started": "2024-04-17T17:34:46.215890Z"
    }
   },
   "outputs": [
    {
     "data": {
      "text/html": [
       "<div>\n",
       "<style scoped>\n",
       "    .dataframe tbody tr th:only-of-type {\n",
       "        vertical-align: middle;\n",
       "    }\n",
       "\n",
       "    .dataframe tbody tr th {\n",
       "        vertical-align: top;\n",
       "    }\n",
       "\n",
       "    .dataframe thead th {\n",
       "        text-align: right;\n",
       "    }\n",
       "</style>\n",
       "<table border=\"1\" class=\"dataframe\">\n",
       "  <thead>\n",
       "    <tr style=\"text-align: right;\">\n",
       "      <th></th>\n",
       "      <th>Sex</th>\n",
       "      <th>Length</th>\n",
       "      <th>Diameter</th>\n",
       "      <th>Height</th>\n",
       "      <th>Whole weight</th>\n",
       "      <th>Whole weight.1</th>\n",
       "      <th>Whole weight.2</th>\n",
       "      <th>Shell weight</th>\n",
       "      <th>Rings</th>\n",
       "    </tr>\n",
       "  </thead>\n",
       "  <tbody>\n",
       "    <tr>\n",
       "      <th>0</th>\n",
       "      <td>0.0</td>\n",
       "      <td>0.483857</td>\n",
       "      <td>0.378288</td>\n",
       "      <td>0.131961</td>\n",
       "      <td>0.678719</td>\n",
       "      <td>0.288994</td>\n",
       "      <td>0.128882</td>\n",
       "      <td>0.211138</td>\n",
       "      <td>11</td>\n",
       "    </tr>\n",
       "    <tr>\n",
       "      <th>1</th>\n",
       "      <td>0.0</td>\n",
       "      <td>0.413300</td>\n",
       "      <td>0.321456</td>\n",
       "      <td>0.095125</td>\n",
       "      <td>0.741316</td>\n",
       "      <td>0.300463</td>\n",
       "      <td>0.181393</td>\n",
       "      <td>0.209930</td>\n",
       "      <td>11</td>\n",
       "    </tr>\n",
       "    <tr>\n",
       "      <th>2</th>\n",
       "      <td>1.0</td>\n",
       "      <td>0.811960</td>\n",
       "      <td>0.558223</td>\n",
       "      <td>0.126869</td>\n",
       "      <td>0.106570</td>\n",
       "      <td>0.027911</td>\n",
       "      <td>0.015224</td>\n",
       "      <td>0.025374</td>\n",
       "      <td>6</td>\n",
       "    </tr>\n",
       "    <tr>\n",
       "      <th>3</th>\n",
       "      <td>2.0</td>\n",
       "      <td>0.458481</td>\n",
       "      <td>0.366014</td>\n",
       "      <td>0.115583</td>\n",
       "      <td>0.704674</td>\n",
       "      <td>0.289344</td>\n",
       "      <td>0.158349</td>\n",
       "      <td>0.192639</td>\n",
       "      <td>10</td>\n",
       "    </tr>\n",
       "    <tr>\n",
       "      <th>4</th>\n",
       "      <td>1.0</td>\n",
       "      <td>0.483393</td>\n",
       "      <td>0.370166</td>\n",
       "      <td>0.113227</td>\n",
       "      <td>0.681105</td>\n",
       "      <td>0.321827</td>\n",
       "      <td>0.139357</td>\n",
       "      <td>0.172018</td>\n",
       "      <td>9</td>\n",
       "    </tr>\n",
       "    <tr>\n",
       "      <th>...</th>\n",
       "      <td>...</td>\n",
       "      <td>...</td>\n",
       "      <td>...</td>\n",
       "      <td>...</td>\n",
       "      <td>...</td>\n",
       "      <td>...</td>\n",
       "      <td>...</td>\n",
       "      <td>...</td>\n",
       "      <td>...</td>\n",
       "    </tr>\n",
       "    <tr>\n",
       "      <th>90610</th>\n",
       "      <td>2.0</td>\n",
       "      <td>0.737586</td>\n",
       "      <td>0.517411</td>\n",
       "      <td>0.165131</td>\n",
       "      <td>0.348977</td>\n",
       "      <td>0.150820</td>\n",
       "      <td>0.081465</td>\n",
       "      <td>0.099079</td>\n",
       "      <td>6</td>\n",
       "    </tr>\n",
       "    <tr>\n",
       "      <th>90611</th>\n",
       "      <td>2.0</td>\n",
       "      <td>0.449615</td>\n",
       "      <td>0.344300</td>\n",
       "      <td>0.121518</td>\n",
       "      <td>0.712093</td>\n",
       "      <td>0.313110</td>\n",
       "      <td>0.147036</td>\n",
       "      <td>0.194428</td>\n",
       "      <td>9</td>\n",
       "    </tr>\n",
       "    <tr>\n",
       "      <th>90612</th>\n",
       "      <td>1.0</td>\n",
       "      <td>0.651275</td>\n",
       "      <td>0.494071</td>\n",
       "      <td>0.142233</td>\n",
       "      <td>0.481345</td>\n",
       "      <td>0.226075</td>\n",
       "      <td>0.117529</td>\n",
       "      <td>0.122021</td>\n",
       "      <td>6</td>\n",
       "    </tr>\n",
       "    <tr>\n",
       "      <th>90613</th>\n",
       "      <td>1.0</td>\n",
       "      <td>0.683933</td>\n",
       "      <td>0.535252</td>\n",
       "      <td>0.148681</td>\n",
       "      <td>0.396483</td>\n",
       "      <td>0.194277</td>\n",
       "      <td>0.097138</td>\n",
       "      <td>0.138769</td>\n",
       "      <td>6</td>\n",
       "    </tr>\n",
       "    <tr>\n",
       "      <th>90614</th>\n",
       "      <td>1.0</td>\n",
       "      <td>0.629327</td>\n",
       "      <td>0.481250</td>\n",
       "      <td>0.148077</td>\n",
       "      <td>0.511606</td>\n",
       "      <td>0.225817</td>\n",
       "      <td>0.116240</td>\n",
       "      <td>0.155481</td>\n",
       "      <td>8</td>\n",
       "    </tr>\n",
       "  </tbody>\n",
       "</table>\n",
       "<p>90615 rows × 9 columns</p>\n",
       "</div>"
      ],
      "text/plain": [
       "       Sex    Length  Diameter    Height  Whole weight  Whole weight.1  \\\n",
       "0      0.0  0.483857  0.378288  0.131961      0.678719        0.288994   \n",
       "1      0.0  0.413300  0.321456  0.095125      0.741316        0.300463   \n",
       "2      1.0  0.811960  0.558223  0.126869      0.106570        0.027911   \n",
       "3      2.0  0.458481  0.366014  0.115583      0.704674        0.289344   \n",
       "4      1.0  0.483393  0.370166  0.113227      0.681105        0.321827   \n",
       "...    ...       ...       ...       ...           ...             ...   \n",
       "90610  2.0  0.737586  0.517411  0.165131      0.348977        0.150820   \n",
       "90611  2.0  0.449615  0.344300  0.121518      0.712093        0.313110   \n",
       "90612  1.0  0.651275  0.494071  0.142233      0.481345        0.226075   \n",
       "90613  1.0  0.683933  0.535252  0.148681      0.396483        0.194277   \n",
       "90614  1.0  0.629327  0.481250  0.148077      0.511606        0.225817   \n",
       "\n",
       "       Whole weight.2  Shell weight  Rings  \n",
       "0            0.128882      0.211138     11  \n",
       "1            0.181393      0.209930     11  \n",
       "2            0.015224      0.025374      6  \n",
       "3            0.158349      0.192639     10  \n",
       "4            0.139357      0.172018      9  \n",
       "...               ...           ...    ...  \n",
       "90610        0.081465      0.099079      6  \n",
       "90611        0.147036      0.194428      9  \n",
       "90612        0.117529      0.122021      6  \n",
       "90613        0.097138      0.138769      6  \n",
       "90614        0.116240      0.155481      8  \n",
       "\n",
       "[90615 rows x 9 columns]"
      ]
     },
     "execution_count": 9,
     "metadata": {},
     "output_type": "execute_result"
    }
   ],
   "source": [
    "pipe.fit_transform(df)"
   ]
  },
  {
   "cell_type": "code",
   "execution_count": null,
   "metadata": {},
   "outputs": [],
   "source": []
  },
  {
   "cell_type": "code",
   "execution_count": 10,
   "metadata": {
    "execution": {
     "iopub.execute_input": "2024-04-17T17:34:46.292855Z",
     "iopub.status.busy": "2024-04-17T17:34:46.292290Z",
     "iopub.status.idle": "2024-04-17T17:34:46.299968Z",
     "shell.execute_reply": "2024-04-17T17:34:46.298874Z",
     "shell.execute_reply.started": "2024-04-17T17:34:46.292828Z"
    }
   },
   "outputs": [],
   "source": [
    "x = df.iloc[:, :-1]\n",
    "y = df.iloc[:, -1]"
   ]
  },
  {
   "cell_type": "code",
   "execution_count": 11,
   "metadata": {
    "execution": {
     "iopub.execute_input": "2024-04-17T17:34:46.301267Z",
     "iopub.status.busy": "2024-04-17T17:34:46.301003Z",
     "iopub.status.idle": "2024-04-17T17:34:46.307014Z",
     "shell.execute_reply": "2024-04-17T17:34:46.305920Z",
     "shell.execute_reply.started": "2024-04-17T17:34:46.301241Z"
    }
   },
   "outputs": [],
   "source": [
    "catboost_params = {\n",
    "    'depth': 15,\n",
    "    'max_bin': 464, \n",
    "    'verbose': False,\n",
    "    'min_data_in_leaf': 78, \n",
    "    'loss_function': 'RMSE', \n",
    "    'grow_policy': 'Lossguide', \n",
    "    'bootstrap_type': 'Bernoulli', \n",
    "    'subsample': 0.83862137638162, \n",
    "    'l2_leaf_reg': 8.365422739510098, \n",
    "    'random_strength': 3.296124856352495, \n",
    "    'learning_rate': 0.09992185242598203, \n",
    "}"
   ]
  },
  {
   "cell_type": "code",
   "execution_count": 14,
   "metadata": {
    "execution": {
     "iopub.execute_input": "2024-04-17T15:42:42.175164Z",
     "iopub.status.busy": "2024-04-17T15:42:42.174783Z",
     "iopub.status.idle": "2024-04-17T15:42:42.185816Z",
     "shell.execute_reply": "2024-04-17T15:42:42.184327Z",
     "shell.execute_reply.started": "2024-04-17T15:42:42.175135Z"
    }
   },
   "outputs": [],
   "source": [
    "models = {\n",
    "    'lda': LinearDiscriminantAnalysis(),\n",
    "    'Random_Forest': RandomForestRegressor(n_estimators=150),\n",
    "    'Ada_boost': AdaBoostRegressor(n_estimators=150),\n",
    "    'Gradient_boost': GradientBoostingRegressor(n_estimators=150,learning_rate=1e-3),\n",
    "    'Bagging_Classifer': BaggingRegressor(n_estimators=200, max_features=0.5, max_samples=1.0),\n",
    "    'Decision_tree': DecisionTreeRegressor(),\n",
    "    'Extr_tree': ExtraTreesRegressor(n_estimators = 200),\n",
    "    'Catboost': CatBoostRegressor(**catboost_params)\n",
    "}"
   ]
  },
  {
   "cell_type": "code",
   "execution_count": 15,
   "metadata": {
    "execution": {
     "iopub.execute_input": "2024-04-17T15:42:49.275204Z",
     "iopub.status.busy": "2024-04-17T15:42:49.274697Z",
     "iopub.status.idle": "2024-04-17T15:42:49.307380Z",
     "shell.execute_reply": "2024-04-17T15:42:49.306210Z",
     "shell.execute_reply.started": "2024-04-17T15:42:49.275161Z"
    }
   },
   "outputs": [],
   "source": [
    "x_train, x_test, y_train, y_test = train_test_split(x, y, test_size=0.20, random_state=42)"
   ]
  },
  {
   "cell_type": "code",
   "execution_count": 19,
   "metadata": {
    "execution": {
     "iopub.execute_input": "2024-04-17T15:44:04.551703Z",
     "iopub.status.busy": "2024-04-17T15:44:04.550922Z",
     "iopub.status.idle": "2024-04-17T15:44:04.560837Z",
     "shell.execute_reply": "2024-04-17T15:44:04.559699Z",
     "shell.execute_reply.started": "2024-04-17T15:44:04.551646Z"
    }
   },
   "outputs": [],
   "source": [
    "def train_model(model, model_name, x=x_train, y=y_train, x_test = x_test, y_test = y_test):\n",
    "    print(\"------------------------------\", model_name , \"------------------------------------------\")\n",
    "    model = model.fit(x, y)\n",
    "    y_pred = model.predict(x_test)\n",
    "    r2_score_train = r2_score(model.predict(x_train), y_train)\n",
    "    r2_score_test = r2_score(y_pred, y_test)\n",
    "    print(\"train\")\n",
    "    print(\"Mean score\", \":\", mean_squared_error(y_pred, y_test))\n",
    "    print(\"Mean SQRT score\", \":\", np.sqrt(mean_squared_error(y_pred, y_test)))\n",
    "    print(\"MSLE\", \":\", mean_squared_log_error(y_pred, y_test))\n",
    "    print(\"RMSLE\", \":\", np.sqrt(mean_squared_log_error(y_pred, y_test)))\n",
    "    #os.makedirs(\"/kaggle/input/playground-series-s4e4/artifacts\",exist_ok=True)\n",
    "    #with open(f'/kaggle/input/playground-series-s4e4/artifacts/{model_name}.pkl','wb') as f:\n",
    "        #pickle.dump(model,f)"
   ]
  },
  {
   "cell_type": "code",
   "execution_count": 20,
   "metadata": {
    "execution": {
     "iopub.execute_input": "2024-04-17T15:44:05.774349Z",
     "iopub.status.busy": "2024-04-17T15:44:05.773631Z",
     "iopub.status.idle": "2024-04-17T15:49:46.865670Z",
     "shell.execute_reply": "2024-04-17T15:49:46.862409Z",
     "shell.execute_reply.started": "2024-04-17T15:44:05.774308Z"
    }
   },
   "outputs": [
    {
     "name": "stdout",
     "output_type": "stream",
     "text": [
      "------------------------------ lda ------------------------------------------\n",
      "train\n",
      "Mean score : 4.782927771340286\n",
      "Mean SQRT score : 2.186990574131559\n",
      "MSLE : 0.030867653763712487\n",
      "RMSLE : 0.17569192856734336\n",
      "------------------------------ Random_Forest ------------------------------------------\n",
      "train\n",
      "Mean score : 3.753088375115722\n",
      "Mean SQRT score : 1.937288924016168\n",
      "MSLE : 0.025101961318159168\n",
      "RMSLE : 0.15843598492185784\n",
      "------------------------------ Ada_boost ------------------------------------------\n",
      "train\n",
      "Mean score : 6.098103854280452\n",
      "Mean SQRT score : 2.4694339137301187\n",
      "MSLE : 0.045284613557518796\n",
      "RMSLE : 0.21280181756159602\n",
      "------------------------------ Gradient_boost ------------------------------------------\n",
      "train\n",
      "Mean score : 8.824521711587074\n",
      "Mean SQRT score : 2.9706096531835136\n",
      "MSLE : 0.07174392911196575\n",
      "RMSLE : 0.26785057235698745\n",
      "------------------------------ Bagging_Classifer ------------------------------------------\n",
      "train\n",
      "Mean score : 3.8441691254233947\n",
      "Mean SQRT score : 1.9606552796000103\n",
      "MSLE : 0.02544537948524766\n",
      "RMSLE : 0.1595160790805982\n",
      "------------------------------ Decision_tree ------------------------------------------\n",
      "train\n",
      "Mean score : 7.344203498317055\n",
      "Mean SQRT score : 2.710019095563176\n",
      "MSLE : 0.04909431827825813\n",
      "RMSLE : 0.22157237706505323\n",
      "------------------------------ Extr_tree ------------------------------------------\n",
      "train\n",
      "Mean score : 3.731530693041991\n",
      "Mean SQRT score : 1.931717032342468\n",
      "MSLE : 0.024988639503135984\n",
      "RMSLE : 0.15807795388078624\n",
      "------------------------------ Catboost ------------------------------------------\n",
      "train\n",
      "Mean score : 3.6776661216858066\n",
      "Mean SQRT score : 1.9177242037597082\n",
      "MSLE : 0.02428364969618631\n",
      "RMSLE : 0.15583212023259618\n"
     ]
    }
   ],
   "source": [
    "for model_name, model in models.items():\n",
    "    train_model(model, model_name)"
   ]
  },
  {
   "cell_type": "code",
   "execution_count": 12,
   "metadata": {
    "execution": {
     "iopub.execute_input": "2024-04-17T17:34:46.308523Z",
     "iopub.status.busy": "2024-04-17T17:34:46.308214Z",
     "iopub.status.idle": "2024-04-17T17:34:50.870545Z",
     "shell.execute_reply": "2024-04-17T17:34:50.869360Z",
     "shell.execute_reply.started": "2024-04-17T17:34:46.308497Z"
    }
   },
   "outputs": [],
   "source": [
    "import torch\n",
    "from torch import nn"
   ]
  },
  {
   "cell_type": "code",
   "execution_count": 13,
   "metadata": {
    "execution": {
     "iopub.execute_input": "2024-04-17T17:34:50.872521Z",
     "iopub.status.busy": "2024-04-17T17:34:50.871924Z",
     "iopub.status.idle": "2024-04-17T17:34:50.932443Z",
     "shell.execute_reply": "2024-04-17T17:34:50.931392Z",
     "shell.execute_reply.started": "2024-04-17T17:34:50.872479Z"
    }
   },
   "outputs": [],
   "source": [
    "device = torch.device(\"cuda\" if torch.cuda.is_available() else \"cpu\")"
   ]
  },
  {
   "cell_type": "code",
   "execution_count": 14,
   "metadata": {
    "execution": {
     "iopub.execute_input": "2024-04-17T17:34:50.934005Z",
     "iopub.status.busy": "2024-04-17T17:34:50.933723Z",
     "iopub.status.idle": "2024-04-17T17:34:50.947792Z",
     "shell.execute_reply": "2024-04-17T17:34:50.946779Z",
     "shell.execute_reply.started": "2024-04-17T17:34:50.933981Z"
    }
   },
   "outputs": [],
   "source": [
    "class TrainTestSplit:\n",
    "    def __init__(self, x, y):\n",
    "        self.x = x\n",
    "        self.y = y\n",
    "\n",
    "    def NumpyToTensor(self) -> tuple[torch.Tensor, torch.Tensor]:\n",
    "        x = torch.from_numpy(self.x.values).type(torch.float)\n",
    "        y = torch.from_numpy(self.y.values).type(torch.float)\n",
    "        return x, y\n",
    "        \n",
    "    def SplitData(self) -> tuple[torch.Tensor, torch.Tensor, torch.Tensor, torch.Tensor]:\n",
    "        x_tensor, y_tensor = self.NumpyToTensor()\n",
    "        x_train, x_test, y_train, y_test = train_test_split(x_tensor, y_tensor, test_size=0.8)\n",
    "        return x_train, x_test, y_train, y_test"
   ]
  },
  {
   "cell_type": "code",
   "execution_count": 15,
   "metadata": {
    "execution": {
     "iopub.execute_input": "2024-04-17T17:34:53.652396Z",
     "iopub.status.busy": "2024-04-17T17:34:53.651521Z",
     "iopub.status.idle": "2024-04-17T17:34:53.723960Z",
     "shell.execute_reply": "2024-04-17T17:34:53.722863Z",
     "shell.execute_reply.started": "2024-04-17T17:34:53.652339Z"
    }
   },
   "outputs": [],
   "source": [
    "data_1 = TrainTestSplit(x, y)\n",
    "x_train, x_test, y_train, y_test = data_1.SplitData()"
   ]
  },
  {
   "cell_type": "code",
   "execution_count": 16,
   "metadata": {
    "execution": {
     "iopub.execute_input": "2024-04-17T17:34:54.497159Z",
     "iopub.status.busy": "2024-04-17T17:34:54.496434Z",
     "iopub.status.idle": "2024-04-17T17:34:54.504642Z",
     "shell.execute_reply": "2024-04-17T17:34:54.503629Z",
     "shell.execute_reply.started": "2024-04-17T17:34:54.497126Z"
    }
   },
   "outputs": [],
   "source": [
    "class ModelV1(nn.Module):\n",
    "    def __init__(self) -> None:\n",
    "        super().__init__()\n",
    "        self.layer_1 = nn.Linear(in_features=8, out_features=32)\n",
    "        self.layer_2 = nn.Linear(in_features=32, out_features=64)\n",
    "        self.layer_3 = nn.Linear(in_features=64, out_features=32)\n",
    "        self.layer_4 = nn.Linear(in_features=32, out_features=1)\n",
    "        self.relu = nn.ReLU()\n",
    "\n",
    "    def forward(self, x):\n",
    "        a = self.layer_1(x)\n",
    "        a = self.layer_2(a)\n",
    "        a = self.layer_3(a)\n",
    "        a = self.layer_4(a)\n",
    "        return a"
   ]
  },
  {
   "cell_type": "code",
   "execution_count": 17,
   "metadata": {
    "execution": {
     "iopub.execute_input": "2024-04-17T17:34:55.323278Z",
     "iopub.status.busy": "2024-04-17T17:34:55.322907Z",
     "iopub.status.idle": "2024-04-17T17:34:55.336903Z",
     "shell.execute_reply": "2024-04-17T17:34:55.335971Z",
     "shell.execute_reply.started": "2024-04-17T17:34:55.323249Z"
    }
   },
   "outputs": [],
   "source": [
    "class TrainModelV2:\n",
    "    def __init__(self, model, x_train, y_train, x_test, y_test, epochs=200, lr=0.01):\n",
    "        self.epochs = epochs\n",
    "        self.model = model\n",
    "        self.x_train = x_train\n",
    "        self.y_train = y_train\n",
    "        self.x_test = x_test\n",
    "        self.y_test = y_test\n",
    "        self.train_loss = list()\n",
    "        self.test_loss = list()\n",
    "        self.epoch_count = list()\n",
    "        self.loss_fn = nn.L1Loss()\n",
    "        self.optimizer = torch.optim.Adam(params=model_1.parameters(), lr=lr)\n",
    "        \n",
    "    def Plot(self):\n",
    "        plt.figure(figsize=(15, 4))\n",
    "        plt.subplot(1, 2, 1)\n",
    "        plt.title(\"Train and Test loss Curves\")\n",
    "        plt.plot(self.epoch_count, self.train_loss, label=\"Training Loss\")\n",
    "        plt.plot(self.epoch_count, self.test_loss, label=\"Testing Loss\")\n",
    "        plt.xlabel(\"Epochs\")\n",
    "        plt.ylabel(\"Loss\")\n",
    "        plt.legend()\n",
    "\n",
    "    def Train(self):\n",
    "        torch.manual_seed(42)\n",
    "        for epoch in range(1, self.epochs + 1):\n",
    "            self.model.train()\n",
    "            y_pred = self.model(self.x_train)\n",
    "            # Ensure target tensor has the same shape as y_pred\n",
    "            target = self.y_train.view_as(y_pred)\n",
    "            loss = self.loss_fn(y_pred, target)\n",
    "            self.optimizer.zero_grad()\n",
    "            loss.backward()\n",
    "            self.optimizer.step()\n",
    "\n",
    "            if epoch % 50 == 0:\n",
    "                self.model.eval()\n",
    "                with torch.inference_mode():\n",
    "                    self.epoch_count.append(epoch)\n",
    "                    test_pred = self.model(self.x_test)\n",
    "                    # Ensure target tensor for test loss has the same shape as test_pred\n",
    "                    target_test = self.y_test.view_as(test_pred)\n",
    "                    test_loss = self.loss_fn(test_pred, target_test)\n",
    "                    self.train_loss.append(loss.item())\n",
    "                    self.test_loss.append(test_loss.item())\n",
    "                    print(f\"EpocH: {epoch} | loss: {loss.item()} | test_loss: {test_loss.item()}\")"
   ]
  },
  {
   "cell_type": "code",
   "execution_count": 18,
   "metadata": {
    "execution": {
     "iopub.execute_input": "2024-04-17T17:34:55.905597Z",
     "iopub.status.busy": "2024-04-17T17:34:55.904668Z",
     "iopub.status.idle": "2024-04-17T17:34:56.110598Z",
     "shell.execute_reply": "2024-04-17T17:34:56.109696Z",
     "shell.execute_reply.started": "2024-04-17T17:34:55.905561Z"
    }
   },
   "outputs": [],
   "source": [
    "model_1 = ModelV1().to(device)"
   ]
  },
  {
   "cell_type": "code",
   "execution_count": 19,
   "metadata": {
    "execution": {
     "iopub.execute_input": "2024-04-17T17:34:56.508679Z",
     "iopub.status.busy": "2024-04-17T17:34:56.507982Z",
     "iopub.status.idle": "2024-04-17T17:34:59.288847Z",
     "shell.execute_reply": "2024-04-17T17:34:59.287796Z",
     "shell.execute_reply.started": "2024-04-17T17:34:56.508649Z"
    }
   },
   "outputs": [
    {
     "name": "stderr",
     "output_type": "stream",
     "text": [
      "/tmp/ipykernel_34/1706661466.py:1: UserWarning: To copy construct from a tensor, it is recommended to use sourceTensor.clone().detach() or sourceTensor.clone().detach().requires_grad_(True), rather than torch.tensor(sourceTensor).\n",
      "  x_train_device = torch.tensor(x_train, dtype=torch.float, device=device)\n",
      "/tmp/ipykernel_34/1706661466.py:2: UserWarning: To copy construct from a tensor, it is recommended to use sourceTensor.clone().detach() or sourceTensor.clone().detach().requires_grad_(True), rather than torch.tensor(sourceTensor).\n",
      "  y_train_device = torch.tensor(y_train, dtype=torch.long, device=device)\n",
      "/tmp/ipykernel_34/1706661466.py:3: UserWarning: To copy construct from a tensor, it is recommended to use sourceTensor.clone().detach() or sourceTensor.clone().detach().requires_grad_(True), rather than torch.tensor(sourceTensor).\n",
      "  x_test_device = torch.tensor(x_test, dtype=torch.float, device=device)\n",
      "/tmp/ipykernel_34/1706661466.py:4: UserWarning: To copy construct from a tensor, it is recommended to use sourceTensor.clone().detach() or sourceTensor.clone().detach().requires_grad_(True), rather than torch.tensor(sourceTensor).\n",
      "  y_test_device = torch.tensor(y_test, dtype=torch.long, device=device)\n"
     ]
    }
   ],
   "source": [
    "x_train_device = torch.tensor(x_train, dtype=torch.float, device=device)\n",
    "y_train_device = torch.tensor(y_train, dtype=torch.long, device=device)\n",
    "x_test_device = torch.tensor(x_test, dtype=torch.float, device=device)\n",
    "y_test_device = torch.tensor(y_test, dtype=torch.long, device=device)\n",
    "\n",
    "train_1 = TrainModelV2(model=model_1, x_train=x_train_device, y_train=y_train_device, x_test=x_test_device, y_test=y_test_device, epochs=2500, lr=1e-3)"
   ]
  },
  {
   "cell_type": "code",
   "execution_count": 20,
   "metadata": {
    "execution": {
     "iopub.execute_input": "2024-04-17T17:34:59.490990Z",
     "iopub.status.busy": "2024-04-17T17:34:59.490460Z",
     "iopub.status.idle": "2024-04-17T17:35:04.064919Z",
     "shell.execute_reply": "2024-04-17T17:35:04.063960Z",
     "shell.execute_reply.started": "2024-04-17T17:34:59.490950Z"
    }
   },
   "outputs": [
    {
     "name": "stdout",
     "output_type": "stream",
     "text": [
      "EpocH: 50 | loss: 2.9628586769104004 | test_loss: 2.8728983402252197\n",
      "EpocH: 100 | loss: 1.9749926328659058 | test_loss: 1.9631743431091309\n",
      "EpocH: 150 | loss: 1.63193678855896 | test_loss: 1.623815894126892\n",
      "EpocH: 200 | loss: 1.5673881769180298 | test_loss: 1.5629559755325317\n",
      "EpocH: 250 | loss: 1.5490281581878662 | test_loss: 1.5447617769241333\n",
      "EpocH: 300 | loss: 1.527725338935852 | test_loss: 1.5234575271606445\n",
      "EpocH: 350 | loss: 1.5019415616989136 | test_loss: 1.49760103225708\n",
      "EpocH: 400 | loss: 1.4701858758926392 | test_loss: 1.465402364730835\n",
      "EpocH: 450 | loss: 1.4322924613952637 | test_loss: 1.426440715789795\n",
      "EpocH: 500 | loss: 1.393317699432373 | test_loss: 1.3860242366790771\n",
      "EpocH: 550 | loss: 1.3678264617919922 | test_loss: 1.3587067127227783\n",
      "EpocH: 600 | loss: 1.3585044145584106 | test_loss: 1.3482588529586792\n",
      "EpocH: 650 | loss: 1.3553999662399292 | test_loss: 1.3446611166000366\n",
      "EpocH: 700 | loss: 1.3536832332611084 | test_loss: 1.3428725004196167\n",
      "EpocH: 750 | loss: 1.3525733947753906 | test_loss: 1.341772437095642\n",
      "EpocH: 800 | loss: 1.3518391847610474 | test_loss: 1.341035008430481\n",
      "EpocH: 850 | loss: 1.3513705730438232 | test_loss: 1.3404704332351685\n",
      "EpocH: 900 | loss: 1.3510477542877197 | test_loss: 1.3402044773101807\n",
      "EpocH: 950 | loss: 1.3508610725402832 | test_loss: 1.3399600982666016\n",
      "EpocH: 1000 | loss: 1.3507320880889893 | test_loss: 1.3399070501327515\n",
      "EpocH: 1050 | loss: 1.3506386280059814 | test_loss: 1.3397544622421265\n",
      "EpocH: 1100 | loss: 1.3506001234054565 | test_loss: 1.3396786451339722\n",
      "EpocH: 1150 | loss: 1.3505281209945679 | test_loss: 1.3396269083023071\n",
      "EpocH: 1200 | loss: 1.3504977226257324 | test_loss: 1.3395823240280151\n",
      "EpocH: 1250 | loss: 1.3504809141159058 | test_loss: 1.3395475149154663\n",
      "EpocH: 1300 | loss: 1.350564956665039 | test_loss: 1.3394861221313477\n",
      "EpocH: 1350 | loss: 1.350493311882019 | test_loss: 1.3394719362258911\n",
      "EpocH: 1400 | loss: 1.350473403930664 | test_loss: 1.3394924402236938\n",
      "EpocH: 1450 | loss: 1.3505287170410156 | test_loss: 1.3394453525543213\n",
      "EpocH: 1500 | loss: 1.3504488468170166 | test_loss: 1.3394585847854614\n",
      "EpocH: 1550 | loss: 1.3505017757415771 | test_loss: 1.3395966291427612\n",
      "EpocH: 1600 | loss: 1.3504489660263062 | test_loss: 1.339533805847168\n",
      "EpocH: 1650 | loss: 1.350453495979309 | test_loss: 1.3395928144454956\n",
      "EpocH: 1700 | loss: 1.3505258560180664 | test_loss: 1.3394384384155273\n",
      "EpocH: 1750 | loss: 1.3505419492721558 | test_loss: 1.3396064043045044\n",
      "EpocH: 1800 | loss: 1.3504924774169922 | test_loss: 1.3397740125656128\n",
      "EpocH: 1850 | loss: 1.3504412174224854 | test_loss: 1.3394701480865479\n",
      "EpocH: 1900 | loss: 1.3504793643951416 | test_loss: 1.3394488096237183\n",
      "EpocH: 1950 | loss: 1.350508451461792 | test_loss: 1.339431643486023\n",
      "EpocH: 2000 | loss: 1.3504436016082764 | test_loss: 1.3394620418548584\n",
      "EpocH: 2050 | loss: 1.350560188293457 | test_loss: 1.3396625518798828\n",
      "EpocH: 2100 | loss: 1.3504588603973389 | test_loss: 1.3394850492477417\n",
      "EpocH: 2150 | loss: 1.3504537343978882 | test_loss: 1.3394609689712524\n",
      "EpocH: 2200 | loss: 1.3505884408950806 | test_loss: 1.339669942855835\n",
      "EpocH: 2250 | loss: 1.3504829406738281 | test_loss: 1.3395946025848389\n",
      "EpocH: 2300 | loss: 1.3504611253738403 | test_loss: 1.339431643486023\n",
      "EpocH: 2350 | loss: 1.3505396842956543 | test_loss: 1.339422583580017\n",
      "EpocH: 2400 | loss: 1.3504581451416016 | test_loss: 1.3394447565078735\n",
      "EpocH: 2450 | loss: 1.350443720817566 | test_loss: 1.3395100831985474\n",
      "EpocH: 2500 | loss: 1.3504406213760376 | test_loss: 1.339639663696289\n"
     ]
    }
   ],
   "source": [
    "train_1.Train()"
   ]
  },
  {
   "cell_type": "code",
   "execution_count": 21,
   "metadata": {
    "execution": {
     "iopub.execute_input": "2024-04-17T17:35:06.021745Z",
     "iopub.status.busy": "2024-04-17T17:35:06.021330Z",
     "iopub.status.idle": "2024-04-17T17:35:06.425690Z",
     "shell.execute_reply": "2024-04-17T17:35:06.424689Z",
     "shell.execute_reply.started": "2024-04-17T17:35:06.021704Z"
    }
   },
   "outputs": [
    {
     "data": {
      "image/png": "[encoded data removed]",
      "text/plain": [
       "<Figure size 1500x400 with 1 Axes>"
      ]
     },
     "metadata": {},
     "output_type": "display_data"
    }
   ],
   "source": [
    "train_1.Plot()"
   ]
  },
  {
   "cell_type": "code",
   "execution_count": 22,
   "metadata": {
    "execution": {
     "iopub.execute_input": "2024-04-17T17:35:08.781260Z",
     "iopub.status.busy": "2024-04-17T17:35:08.780853Z",
     "iopub.status.idle": "2024-04-17T17:35:08.894701Z",
     "shell.execute_reply": "2024-04-17T17:35:08.893550Z",
     "shell.execute_reply.started": "2024-04-17T17:35:08.781227Z"
    }
   },
   "outputs": [],
   "source": [
    "test_df = pd.read_csv(\"/kaggle/input/playground-series-s4e4/test.csv\")"
   ]
  },
  {
   "cell_type": "code",
   "execution_count": 23,
   "metadata": {
    "execution": {
     "iopub.execute_input": "2024-04-17T17:35:10.769613Z",
     "iopub.status.busy": "2024-04-17T17:35:10.769216Z",
     "iopub.status.idle": "2024-04-17T17:35:10.774478Z",
     "shell.execute_reply": "2024-04-17T17:35:10.773296Z",
     "shell.execute_reply.started": "2024-04-17T17:35:10.769582Z"
    }
   },
   "outputs": [],
   "source": [
    "x1 = test_df.iloc[:, :]"
   ]
  },
  {
   "cell_type": "code",
   "execution_count": 24,
   "metadata": {
    "execution": {
     "iopub.execute_input": "2024-04-17T17:35:11.401444Z",
     "iopub.status.busy": "2024-04-17T17:35:11.400318Z",
     "iopub.status.idle": "2024-04-17T17:35:11.410081Z",
     "shell.execute_reply": "2024-04-17T17:35:11.408704Z",
     "shell.execute_reply.started": "2024-04-17T17:35:11.401401Z"
    }
   },
   "outputs": [],
   "source": [
    "test_df_1 = test_df[['Sex', 'Length', 'Diameter', 'Height', 'Whole weight', 'Whole weight.1',\n",
    "       'Whole weight.2', 'Shell weight']]"
   ]
  },
  {
   "cell_type": "code",
   "execution_count": 25,
   "metadata": {
    "execution": {
     "iopub.execute_input": "2024-04-17T17:35:12.541000Z",
     "iopub.status.busy": "2024-04-17T17:35:12.540161Z",
     "iopub.status.idle": "2024-04-17T17:35:12.562738Z",
     "shell.execute_reply": "2024-04-17T17:35:12.561731Z",
     "shell.execute_reply.started": "2024-04-17T17:35:12.540960Z"
    }
   },
   "outputs": [
    {
     "data": {
      "text/html": [
       "<div>\n",
       "<style scoped>\n",
       "    .dataframe tbody tr th:only-of-type {\n",
       "        vertical-align: middle;\n",
       "    }\n",
       "\n",
       "    .dataframe tbody tr th {\n",
       "        vertical-align: top;\n",
       "    }\n",
       "\n",
       "    .dataframe thead th {\n",
       "        text-align: right;\n",
       "    }\n",
       "</style>\n",
       "<table border=\"1\" class=\"dataframe\">\n",
       "  <thead>\n",
       "    <tr style=\"text-align: right;\">\n",
       "      <th></th>\n",
       "      <th>Sex</th>\n",
       "      <th>Length</th>\n",
       "      <th>Diameter</th>\n",
       "      <th>Height</th>\n",
       "      <th>Whole weight</th>\n",
       "      <th>Whole weight.1</th>\n",
       "      <th>Whole weight.2</th>\n",
       "      <th>Shell weight</th>\n",
       "    </tr>\n",
       "  </thead>\n",
       "  <tbody>\n",
       "    <tr>\n",
       "      <th>0</th>\n",
       "      <td>M</td>\n",
       "      <td>0.645</td>\n",
       "      <td>0.475</td>\n",
       "      <td>0.155</td>\n",
       "      <td>1.2380</td>\n",
       "      <td>0.6185</td>\n",
       "      <td>0.3125</td>\n",
       "      <td>0.3005</td>\n",
       "    </tr>\n",
       "    <tr>\n",
       "      <th>1</th>\n",
       "      <td>M</td>\n",
       "      <td>0.580</td>\n",
       "      <td>0.460</td>\n",
       "      <td>0.160</td>\n",
       "      <td>0.9830</td>\n",
       "      <td>0.4785</td>\n",
       "      <td>0.2195</td>\n",
       "      <td>0.2750</td>\n",
       "    </tr>\n",
       "    <tr>\n",
       "      <th>2</th>\n",
       "      <td>M</td>\n",
       "      <td>0.560</td>\n",
       "      <td>0.420</td>\n",
       "      <td>0.140</td>\n",
       "      <td>0.8395</td>\n",
       "      <td>0.3525</td>\n",
       "      <td>0.1845</td>\n",
       "      <td>0.2405</td>\n",
       "    </tr>\n",
       "    <tr>\n",
       "      <th>3</th>\n",
       "      <td>M</td>\n",
       "      <td>0.570</td>\n",
       "      <td>0.490</td>\n",
       "      <td>0.145</td>\n",
       "      <td>0.8740</td>\n",
       "      <td>0.3525</td>\n",
       "      <td>0.1865</td>\n",
       "      <td>0.2350</td>\n",
       "    </tr>\n",
       "    <tr>\n",
       "      <th>4</th>\n",
       "      <td>I</td>\n",
       "      <td>0.415</td>\n",
       "      <td>0.325</td>\n",
       "      <td>0.110</td>\n",
       "      <td>0.3580</td>\n",
       "      <td>0.1575</td>\n",
       "      <td>0.0670</td>\n",
       "      <td>0.1050</td>\n",
       "    </tr>\n",
       "    <tr>\n",
       "      <th>...</th>\n",
       "      <td>...</td>\n",
       "      <td>...</td>\n",
       "      <td>...</td>\n",
       "      <td>...</td>\n",
       "      <td>...</td>\n",
       "      <td>...</td>\n",
       "      <td>...</td>\n",
       "      <td>...</td>\n",
       "    </tr>\n",
       "    <tr>\n",
       "      <th>60406</th>\n",
       "      <td>I</td>\n",
       "      <td>0.345</td>\n",
       "      <td>0.260</td>\n",
       "      <td>0.085</td>\n",
       "      <td>0.1775</td>\n",
       "      <td>0.0735</td>\n",
       "      <td>0.0265</td>\n",
       "      <td>0.0500</td>\n",
       "    </tr>\n",
       "    <tr>\n",
       "      <th>60407</th>\n",
       "      <td>F</td>\n",
       "      <td>0.525</td>\n",
       "      <td>0.410</td>\n",
       "      <td>0.145</td>\n",
       "      <td>0.8445</td>\n",
       "      <td>0.3885</td>\n",
       "      <td>0.1670</td>\n",
       "      <td>0.2050</td>\n",
       "    </tr>\n",
       "    <tr>\n",
       "      <th>60408</th>\n",
       "      <td>I</td>\n",
       "      <td>0.590</td>\n",
       "      <td>0.440</td>\n",
       "      <td>0.155</td>\n",
       "      <td>1.1220</td>\n",
       "      <td>0.3930</td>\n",
       "      <td>0.2000</td>\n",
       "      <td>0.2650</td>\n",
       "    </tr>\n",
       "    <tr>\n",
       "      <th>60409</th>\n",
       "      <td>F</td>\n",
       "      <td>0.660</td>\n",
       "      <td>0.525</td>\n",
       "      <td>0.190</td>\n",
       "      <td>1.4935</td>\n",
       "      <td>0.5885</td>\n",
       "      <td>0.3575</td>\n",
       "      <td>0.4350</td>\n",
       "    </tr>\n",
       "    <tr>\n",
       "      <th>60410</th>\n",
       "      <td>F</td>\n",
       "      <td>0.430</td>\n",
       "      <td>0.340</td>\n",
       "      <td>0.120</td>\n",
       "      <td>0.4150</td>\n",
       "      <td>0.1525</td>\n",
       "      <td>0.0910</td>\n",
       "      <td>0.0905</td>\n",
       "    </tr>\n",
       "  </tbody>\n",
       "</table>\n",
       "<p>60411 rows × 8 columns</p>\n",
       "</div>"
      ],
      "text/plain": [
       "      Sex  Length  Diameter  Height  Whole weight  Whole weight.1  \\\n",
       "0       M   0.645     0.475   0.155        1.2380          0.6185   \n",
       "1       M   0.580     0.460   0.160        0.9830          0.4785   \n",
       "2       M   0.560     0.420   0.140        0.8395          0.3525   \n",
       "3       M   0.570     0.490   0.145        0.8740          0.3525   \n",
       "4       I   0.415     0.325   0.110        0.3580          0.1575   \n",
       "...    ..     ...       ...     ...           ...             ...   \n",
       "60406   I   0.345     0.260   0.085        0.1775          0.0735   \n",
       "60407   F   0.525     0.410   0.145        0.8445          0.3885   \n",
       "60408   I   0.590     0.440   0.155        1.1220          0.3930   \n",
       "60409   F   0.660     0.525   0.190        1.4935          0.5885   \n",
       "60410   F   0.430     0.340   0.120        0.4150          0.1525   \n",
       "\n",
       "       Whole weight.2  Shell weight  \n",
       "0              0.3125        0.3005  \n",
       "1              0.2195        0.2750  \n",
       "2              0.1845        0.2405  \n",
       "3              0.1865        0.2350  \n",
       "4              0.0670        0.1050  \n",
       "...               ...           ...  \n",
       "60406          0.0265        0.0500  \n",
       "60407          0.1670        0.2050  \n",
       "60408          0.2000        0.2650  \n",
       "60409          0.3575        0.4350  \n",
       "60410          0.0910        0.0905  \n",
       "\n",
       "[60411 rows x 8 columns]"
      ]
     },
     "execution_count": 25,
     "metadata": {},
     "output_type": "execute_result"
    }
   ],
   "source": [
    "test_df_1"
   ]
  },
  {
   "cell_type": "code",
   "execution_count": 26,
   "metadata": {
    "execution": {
     "iopub.execute_input": "2024-04-17T17:35:15.783515Z",
     "iopub.status.busy": "2024-04-17T17:35:15.782856Z",
     "iopub.status.idle": "2024-04-17T17:35:15.835040Z",
     "shell.execute_reply": "2024-04-17T17:35:15.834165Z",
     "shell.execute_reply.started": "2024-04-17T17:35:15.783485Z"
    }
   },
   "outputs": [
    {
     "name": "stderr",
     "output_type": "stream",
     "text": [
      "/tmp/ipykernel_34/2911537069.py:8: SettingWithCopyWarning: \n",
      "A value is trying to be set on a copy of a slice from a DataFrame.\n",
      "Try using .loc[row_indexer,col_indexer] = value instead\n",
      "\n",
      "See the caveats in the documentation: https://pandas.pydata.org/pandas-docs/stable/user_guide/indexing.html#returning-a-view-versus-a-copy\n",
      "  df[self.column_1] = oe.fit_transform(df[self.column_1])\n",
      "/tmp/ipykernel_34/806164321.py:9: SettingWithCopyWarning: \n",
      "A value is trying to be set on a copy of a slice from a DataFrame.\n",
      "Try using .loc[row_indexer,col_indexer] = value instead\n",
      "\n",
      "See the caveats in the documentation: https://pandas.pydata.org/pandas-docs/stable/user_guide/indexing.html#returning-a-view-versus-a-copy\n",
      "  df[self.column_3] = stc.fit_transform(df[self.column_3])\n"
     ]
    },
    {
     "data": {
      "text/html": [
       "<div>\n",
       "<style scoped>\n",
       "    .dataframe tbody tr th:only-of-type {\n",
       "        vertical-align: middle;\n",
       "    }\n",
       "\n",
       "    .dataframe tbody tr th {\n",
       "        vertical-align: top;\n",
       "    }\n",
       "\n",
       "    .dataframe thead th {\n",
       "        text-align: right;\n",
       "    }\n",
       "</style>\n",
       "<table border=\"1\" class=\"dataframe\">\n",
       "  <thead>\n",
       "    <tr style=\"text-align: right;\">\n",
       "      <th></th>\n",
       "      <th>Sex</th>\n",
       "      <th>Length</th>\n",
       "      <th>Diameter</th>\n",
       "      <th>Height</th>\n",
       "      <th>Whole weight</th>\n",
       "      <th>Whole weight.1</th>\n",
       "      <th>Whole weight.2</th>\n",
       "      <th>Shell weight</th>\n",
       "    </tr>\n",
       "  </thead>\n",
       "  <tbody>\n",
       "    <tr>\n",
       "      <th>0</th>\n",
       "      <td>2.0</td>\n",
       "      <td>0.387626</td>\n",
       "      <td>0.285461</td>\n",
       "      <td>0.093150</td>\n",
       "      <td>0.744001</td>\n",
       "      <td>0.371700</td>\n",
       "      <td>0.187803</td>\n",
       "      <td>0.180591</td>\n",
       "    </tr>\n",
       "    <tr>\n",
       "      <th>1</th>\n",
       "      <td>2.0</td>\n",
       "      <td>0.421592</td>\n",
       "      <td>0.334366</td>\n",
       "      <td>0.116301</td>\n",
       "      <td>0.714525</td>\n",
       "      <td>0.347813</td>\n",
       "      <td>0.159551</td>\n",
       "      <td>0.199893</td>\n",
       "    </tr>\n",
       "    <tr>\n",
       "      <th>2</th>\n",
       "      <td>2.0</td>\n",
       "      <td>0.468214</td>\n",
       "      <td>0.351161</td>\n",
       "      <td>0.117054</td>\n",
       "      <td>0.701903</td>\n",
       "      <td>0.294724</td>\n",
       "      <td>0.154260</td>\n",
       "      <td>0.201081</td>\n",
       "    </tr>\n",
       "    <tr>\n",
       "      <th>3</th>\n",
       "      <td>2.0</td>\n",
       "      <td>0.455757</td>\n",
       "      <td>0.391791</td>\n",
       "      <td>0.115938</td>\n",
       "      <td>0.698828</td>\n",
       "      <td>0.281850</td>\n",
       "      <td>0.149121</td>\n",
       "      <td>0.187900</td>\n",
       "    </tr>\n",
       "    <tr>\n",
       "      <th>4</th>\n",
       "      <td>1.0</td>\n",
       "      <td>0.612928</td>\n",
       "      <td>0.480004</td>\n",
       "      <td>0.162463</td>\n",
       "      <td>0.528743</td>\n",
       "      <td>0.232617</td>\n",
       "      <td>0.098955</td>\n",
       "      <td>0.155078</td>\n",
       "    </tr>\n",
       "    <tr>\n",
       "      <th>...</th>\n",
       "      <td>...</td>\n",
       "      <td>...</td>\n",
       "      <td>...</td>\n",
       "      <td>...</td>\n",
       "      <td>...</td>\n",
       "      <td>...</td>\n",
       "      <td>...</td>\n",
       "      <td>...</td>\n",
       "    </tr>\n",
       "    <tr>\n",
       "      <th>60406</th>\n",
       "      <td>1.0</td>\n",
       "      <td>0.713260</td>\n",
       "      <td>0.537529</td>\n",
       "      <td>0.175731</td>\n",
       "      <td>0.366967</td>\n",
       "      <td>0.151955</td>\n",
       "      <td>0.054787</td>\n",
       "      <td>0.103371</td>\n",
       "    </tr>\n",
       "    <tr>\n",
       "      <th>60407</th>\n",
       "      <td>0.0</td>\n",
       "      <td>0.443900</td>\n",
       "      <td>0.346665</td>\n",
       "      <td>0.122601</td>\n",
       "      <td>0.714045</td>\n",
       "      <td>0.328486</td>\n",
       "      <td>0.141202</td>\n",
       "      <td>0.173332</td>\n",
       "    </tr>\n",
       "    <tr>\n",
       "      <th>60408</th>\n",
       "      <td>1.0</td>\n",
       "      <td>0.408182</td>\n",
       "      <td>0.304407</td>\n",
       "      <td>0.107234</td>\n",
       "      <td>0.776237</td>\n",
       "      <td>0.271890</td>\n",
       "      <td>0.138367</td>\n",
       "      <td>0.183336</td>\n",
       "    </tr>\n",
       "    <tr>\n",
       "      <th>60409</th>\n",
       "      <td>0.0</td>\n",
       "      <td>0.345876</td>\n",
       "      <td>0.275128</td>\n",
       "      <td>0.099570</td>\n",
       "      <td>0.782674</td>\n",
       "      <td>0.308406</td>\n",
       "      <td>0.187349</td>\n",
       "      <td>0.227963</td>\n",
       "    </tr>\n",
       "    <tr>\n",
       "      <th>60410</th>\n",
       "      <td>0.0</td>\n",
       "      <td>0.592412</td>\n",
       "      <td>0.468419</td>\n",
       "      <td>0.165324</td>\n",
       "      <td>0.571747</td>\n",
       "      <td>0.210100</td>\n",
       "      <td>0.125371</td>\n",
       "      <td>0.124682</td>\n",
       "    </tr>\n",
       "  </tbody>\n",
       "</table>\n",
       "<p>60411 rows × 8 columns</p>\n",
       "</div>"
      ],
      "text/plain": [
       "       Sex    Length  Diameter    Height  Whole weight  Whole weight.1  \\\n",
       "0      2.0  0.387626  0.285461  0.093150      0.744001        0.371700   \n",
       "1      2.0  0.421592  0.334366  0.116301      0.714525        0.347813   \n",
       "2      2.0  0.468214  0.351161  0.117054      0.701903        0.294724   \n",
       "3      2.0  0.455757  0.391791  0.115938      0.698828        0.281850   \n",
       "4      1.0  0.612928  0.480004  0.162463      0.528743        0.232617   \n",
       "...    ...       ...       ...       ...           ...             ...   \n",
       "60406  1.0  0.713260  0.537529  0.175731      0.366967        0.151955   \n",
       "60407  0.0  0.443900  0.346665  0.122601      0.714045        0.328486   \n",
       "60408  1.0  0.408182  0.304407  0.107234      0.776237        0.271890   \n",
       "60409  0.0  0.345876  0.275128  0.099570      0.782674        0.308406   \n",
       "60410  0.0  0.592412  0.468419  0.165324      0.571747        0.210100   \n",
       "\n",
       "       Whole weight.2  Shell weight  \n",
       "0            0.187803      0.180591  \n",
       "1            0.159551      0.199893  \n",
       "2            0.154260      0.201081  \n",
       "3            0.149121      0.187900  \n",
       "4            0.098955      0.155078  \n",
       "...               ...           ...  \n",
       "60406        0.054787      0.103371  \n",
       "60407        0.141202      0.173332  \n",
       "60408        0.138367      0.183336  \n",
       "60409        0.187349      0.227963  \n",
       "60410        0.125371      0.124682  \n",
       "\n",
       "[60411 rows x 8 columns]"
      ]
     },
     "execution_count": 26,
     "metadata": {},
     "output_type": "execute_result"
    }
   ],
   "source": [
    "pipe.fit_transform(test_df_1)"
   ]
  },
  {
   "cell_type": "code",
   "execution_count": 27,
   "metadata": {
    "execution": {
     "iopub.execute_input": "2024-04-17T17:35:17.114964Z",
     "iopub.status.busy": "2024-04-17T17:35:17.113845Z",
     "iopub.status.idle": "2024-04-17T17:35:17.120649Z",
     "shell.execute_reply": "2024-04-17T17:35:17.119634Z",
     "shell.execute_reply.started": "2024-04-17T17:35:17.114921Z"
    }
   },
   "outputs": [],
   "source": [
    "data = test_df_1.values"
   ]
  },
  {
   "cell_type": "code",
   "execution_count": 28,
   "metadata": {
    "execution": {
     "iopub.execute_input": "2024-04-17T17:35:18.054785Z",
     "iopub.status.busy": "2024-04-17T17:35:18.053746Z",
     "iopub.status.idle": "2024-04-17T17:35:18.061973Z",
     "shell.execute_reply": "2024-04-17T17:35:18.060947Z",
     "shell.execute_reply.started": "2024-04-17T17:35:18.054738Z"
    }
   },
   "outputs": [
    {
     "data": {
      "text/plain": [
       "array([[2.        , 0.38762567, 0.28546076, ..., 0.37169996, 0.18780313,\n",
       "        0.18059149],\n",
       "       [2.        , 0.42159174, 0.33436586, ..., 0.34781319, 0.15955067,\n",
       "        0.19989264],\n",
       "       [2.        , 0.46821417, 0.35116063, ..., 0.2947241 , 0.15425985,\n",
       "        0.20108126],\n",
       "       ...,\n",
       "       [1.        , 0.40818156, 0.30440658, ..., 0.27189043, 0.13836663,\n",
       "        0.18333578],\n",
       "       [0.        , 0.34587553, 0.27512826, ..., 0.30840568, 0.18734924,\n",
       "        0.22796342],\n",
       "       [0.        , 0.59241212, 0.46841888, ..., 0.21009965, 0.12537094,\n",
       "        0.12468209]])"
      ]
     },
     "execution_count": 28,
     "metadata": {},
     "output_type": "execute_result"
    }
   ],
   "source": [
    "data"
   ]
  },
  {
   "cell_type": "code",
   "execution_count": null,
   "metadata": {},
   "outputs": [],
   "source": []
  },
  {
   "cell_type": "code",
   "execution_count": 29,
   "metadata": {
    "execution": {
     "iopub.execute_input": "2024-04-17T17:35:19.314780Z",
     "iopub.status.busy": "2024-04-17T17:35:19.314411Z",
     "iopub.status.idle": "2024-04-17T17:35:19.320783Z",
     "shell.execute_reply": "2024-04-17T17:35:19.319794Z",
     "shell.execute_reply.started": "2024-04-17T17:35:19.314753Z"
    }
   },
   "outputs": [],
   "source": [
    "x = torch.from_numpy(test_df_1.values).type(torch.float64)"
   ]
  },
  {
   "cell_type": "code",
   "execution_count": 30,
   "metadata": {
    "execution": {
     "iopub.execute_input": "2024-04-17T17:35:19.916014Z",
     "iopub.status.busy": "2024-04-17T17:35:19.915323Z",
     "iopub.status.idle": "2024-04-17T17:35:19.945124Z",
     "shell.execute_reply": "2024-04-17T17:35:19.944205Z",
     "shell.execute_reply.started": "2024-04-17T17:35:19.915981Z"
    }
   },
   "outputs": [
    {
     "data": {
      "text/plain": [
       "tensor([2.0000, 0.3876, 0.2855, 0.0932, 0.7440, 0.3717, 0.1878, 0.1806],\n",
       "       dtype=torch.float64)"
      ]
     },
     "execution_count": 30,
     "metadata": {},
     "output_type": "execute_result"
    }
   ],
   "source": [
    "x[0]"
   ]
  },
  {
   "cell_type": "code",
   "execution_count": 31,
   "metadata": {
    "execution": {
     "iopub.execute_input": "2024-04-17T17:35:20.384028Z",
     "iopub.status.busy": "2024-04-17T17:35:20.383643Z",
     "iopub.status.idle": "2024-04-17T17:35:20.395173Z",
     "shell.execute_reply": "2024-04-17T17:35:20.394157Z",
     "shell.execute_reply.started": "2024-04-17T17:35:20.383997Z"
    }
   },
   "outputs": [],
   "source": [
    "torch.save(model_1, 'model.pth')"
   ]
  },
  {
   "cell_type": "code",
   "execution_count": 32,
   "metadata": {
    "execution": {
     "iopub.execute_input": "2024-04-17T17:35:21.190835Z",
     "iopub.status.busy": "2024-04-17T17:35:21.190095Z",
     "iopub.status.idle": "2024-04-17T17:35:21.199176Z",
     "shell.execute_reply": "2024-04-17T17:35:21.198195Z",
     "shell.execute_reply.started": "2024-04-17T17:35:21.190802Z"
    }
   },
   "outputs": [],
   "source": [
    "model = torch.load('model.pth')"
   ]
  },
  {
   "cell_type": "code",
   "execution_count": 33,
   "metadata": {
    "execution": {
     "iopub.execute_input": "2024-04-17T17:35:21.857306Z",
     "iopub.status.busy": "2024-04-17T17:35:21.856648Z",
     "iopub.status.idle": "2024-04-17T17:35:51.702302Z",
     "shell.execute_reply": "2024-04-17T17:35:51.701178Z",
     "shell.execute_reply.started": "2024-04-17T17:35:21.857277Z"
    }
   },
   "outputs": [],
   "source": [
    "predictions = []\n",
    "for i in range(len(test_df_1)):\n",
    "    input_tensor = x[i].float()  # Cast input tensor to float32\n",
    "    device = torch.device(\"cuda\" if torch.cuda.is_available() else \"cpu\")\n",
    "    input_tensor = input_tensor.to(device)\n",
    "    input_tensor = input_tensor.view(1, -1) \n",
    "    model_1.to(device)\n",
    "    with torch.no_grad():\n",
    "        prediction = model_1(input_tensor)\n",
    "        \n",
    "    predictions.append(abs(round(prediction.item(), 0)))"
   ]
  },
  {
   "cell_type": "code",
   "execution_count": 34,
   "metadata": {
    "execution": {
     "iopub.execute_input": "2024-04-17T17:35:51.704714Z",
     "iopub.status.busy": "2024-04-17T17:35:51.704380Z",
     "iopub.status.idle": "2024-04-17T17:35:51.718574Z",
     "shell.execute_reply": "2024-04-17T17:35:51.717549Z",
     "shell.execute_reply.started": "2024-04-17T17:35:51.704686Z"
    }
   },
   "outputs": [],
   "source": [
    "data1 = pd.DataFrame(predictions, columns=['Rings'])"
   ]
  },
  {
   "cell_type": "code",
   "execution_count": 35,
   "metadata": {
    "execution": {
     "iopub.execute_input": "2024-04-17T17:35:51.720056Z",
     "iopub.status.busy": "2024-04-17T17:35:51.719739Z",
     "iopub.status.idle": "2024-04-17T17:35:51.730744Z",
     "shell.execute_reply": "2024-04-17T17:35:51.729822Z",
     "shell.execute_reply.started": "2024-04-17T17:35:51.720031Z"
    }
   },
   "outputs": [],
   "source": [
    "submission = pd.concat([test_df['id'], data1['Rings']], axis=1)"
   ]
  },
  {
   "cell_type": "code",
   "execution_count": 37,
   "metadata": {
    "execution": {
     "iopub.execute_input": "2024-04-17T17:36:06.339131Z",
     "iopub.status.busy": "2024-04-17T17:36:06.338754Z",
     "iopub.status.idle": "2024-04-17T17:36:06.347227Z",
     "shell.execute_reply": "2024-04-17T17:36:06.346027Z",
     "shell.execute_reply.started": "2024-04-17T17:36:06.339101Z"
    }
   },
   "outputs": [
    {
     "data": {
      "text/plain": [
       "array([ 9., 10.,  8., 12.,  6., 11.,  7.,  5., 13.,  4., 16., 14., 15.,\n",
       "       17.,  3., 18., 23.,  0.,  1., 24., 22., 25.])"
      ]
     },
     "execution_count": 37,
     "metadata": {},
     "output_type": "execute_result"
    }
   ],
   "source": [
    "submission['Rings'].unique()"
   ]
  },
  {
   "cell_type": "code",
   "execution_count": 38,
   "metadata": {
    "execution": {
     "iopub.execute_input": "2024-04-17T17:36:10.780247Z",
     "iopub.status.busy": "2024-04-17T17:36:10.779839Z",
     "iopub.status.idle": "2024-04-17T17:36:10.792924Z",
     "shell.execute_reply": "2024-04-17T17:36:10.792010Z",
     "shell.execute_reply.started": "2024-04-17T17:36:10.780214Z"
    }
   },
   "outputs": [
    {
     "data": {
      "text/html": [
       "<div>\n",
       "<style scoped>\n",
       "    .dataframe tbody tr th:only-of-type {\n",
       "        vertical-align: middle;\n",
       "    }\n",
       "\n",
       "    .dataframe tbody tr th {\n",
       "        vertical-align: top;\n",
       "    }\n",
       "\n",
       "    .dataframe thead th {\n",
       "        text-align: right;\n",
       "    }\n",
       "</style>\n",
       "<table border=\"1\" class=\"dataframe\">\n",
       "  <thead>\n",
       "    <tr style=\"text-align: right;\">\n",
       "      <th></th>\n",
       "      <th>id</th>\n",
       "      <th>Rings</th>\n",
       "    </tr>\n",
       "  </thead>\n",
       "  <tbody>\n",
       "    <tr>\n",
       "      <th>0</th>\n",
       "      <td>90615</td>\n",
       "      <td>9.0</td>\n",
       "    </tr>\n",
       "    <tr>\n",
       "      <th>1</th>\n",
       "      <td>90616</td>\n",
       "      <td>10.0</td>\n",
       "    </tr>\n",
       "    <tr>\n",
       "      <th>2</th>\n",
       "      <td>90617</td>\n",
       "      <td>10.0</td>\n",
       "    </tr>\n",
       "    <tr>\n",
       "      <th>3</th>\n",
       "      <td>90618</td>\n",
       "      <td>10.0</td>\n",
       "    </tr>\n",
       "    <tr>\n",
       "      <th>4</th>\n",
       "      <td>90619</td>\n",
       "      <td>8.0</td>\n",
       "    </tr>\n",
       "    <tr>\n",
       "      <th>...</th>\n",
       "      <td>...</td>\n",
       "      <td>...</td>\n",
       "    </tr>\n",
       "    <tr>\n",
       "      <th>60406</th>\n",
       "      <td>151021</td>\n",
       "      <td>6.0</td>\n",
       "    </tr>\n",
       "    <tr>\n",
       "      <th>60407</th>\n",
       "      <td>151022</td>\n",
       "      <td>9.0</td>\n",
       "    </tr>\n",
       "    <tr>\n",
       "      <th>60408</th>\n",
       "      <td>151023</td>\n",
       "      <td>11.0</td>\n",
       "    </tr>\n",
       "    <tr>\n",
       "      <th>60409</th>\n",
       "      <td>151024</td>\n",
       "      <td>12.0</td>\n",
       "    </tr>\n",
       "    <tr>\n",
       "      <th>60410</th>\n",
       "      <td>151025</td>\n",
       "      <td>8.0</td>\n",
       "    </tr>\n",
       "  </tbody>\n",
       "</table>\n",
       "<p>60411 rows × 2 columns</p>\n",
       "</div>"
      ],
      "text/plain": [
       "           id  Rings\n",
       "0       90615    9.0\n",
       "1       90616   10.0\n",
       "2       90617   10.0\n",
       "3       90618   10.0\n",
       "4       90619    8.0\n",
       "...       ...    ...\n",
       "60406  151021    6.0\n",
       "60407  151022    9.0\n",
       "60408  151023   11.0\n",
       "60409  151024   12.0\n",
       "60410  151025    8.0\n",
       "\n",
       "[60411 rows x 2 columns]"
      ]
     },
     "execution_count": 38,
     "metadata": {},
     "output_type": "execute_result"
    }
   ],
   "source": [
    "submission"
   ]
  },
  {
   "cell_type": "code",
   "execution_count": 39,
   "metadata": {
    "execution": {
     "iopub.execute_input": "2024-04-17T17:36:14.002804Z",
     "iopub.status.busy": "2024-04-17T17:36:14.001912Z",
     "iopub.status.idle": "2024-04-17T17:36:14.119100Z",
     "shell.execute_reply": "2024-04-17T17:36:14.118284Z",
     "shell.execute_reply.started": "2024-04-17T17:36:14.002769Z"
    }
   },
   "outputs": [],
   "source": [
    "submission.to_csv(\"/kaggle/working/submission.csv\", index=False)"
   ]
  },
  {
   "cell_type": "code",
   "execution_count": 41,
   "metadata": {
    "execution": {
     "iopub.execute_input": "2024-04-17T17:29:45.046305Z",
     "iopub.status.busy": "2024-04-17T17:29:45.045952Z",
     "iopub.status.idle": "2024-04-17T17:29:46.335835Z",
     "shell.execute_reply": "2024-04-17T17:29:46.334891Z",
     "shell.execute_reply.started": "2024-04-17T17:29:45.046277Z"
    }
   },
   "outputs": [
    {
     "name": "stdout",
     "output_type": "stream",
     "text": [
      "Traceback (most recent call last):\n",
      "  File \"/opt/conda/bin/kaggle\", line 5, in <module>\n",
      "    from kaggle.cli import main\n",
      "  File \"/opt/conda/lib/python3.10/site-packages/kaggle/__init__.py\", line 23, in <module>\n",
      "    api.authenticate()\n",
      "  File \"/opt/conda/lib/python3.10/site-packages/kaggle/api/kaggle_api_extended.py\", line 403, in authenticate\n",
      "    raise IOError('Could not find {}. Make sure it\\'s located in'\n",
      "OSError: Could not find kaggle.json. Make sure it's located in /root/.kaggle. Or use the environment method.\n"
     ]
    }
   ],
   "source": [
    "!kaggle competitions  submit -c playground-series-s4e4 -f /kaggle/working/submission.csv"
   ]
  },
  {
   "cell_type": "code",
   "execution_count": null,
   "metadata": {},
   "outputs": [],
   "source": []
  }
 ],
 "metadata": {
  "kaggle": {
   "accelerator": "none",
   "dataSources": [
    {
     "databundleVersionId": 8096274,
     "sourceId": 72489,
     "sourceType": "competition"
    }
   ],
   "dockerImageVersionId": 30683,
   "isGpuEnabled": false,
   "isInternetEnabled": true,
   "language": "python",
   "sourceType": "notebook"
  },
  "kernelspec": {
   "display_name": "Python 3 (ipykernel)",
   "language": "python",
   "name": "python3"
  },
  "language_info": {
   "codemirror_mode": {
    "name": "ipython",
    "version": 3
   },
   "file_extension": ".py",
   "mimetype": "text/x-python",
   "name": "python",
   "nbconvert_exporter": "python",
   "pygments_lexer": "ipython3",
   "version": "3.10.13"
  }
 },
 "nbformat": 4,
 "nbformat_minor": 4
}
